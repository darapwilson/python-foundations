{
 "cells": [
  {
   "cell_type": "markdown",
   "metadata": {},
   "source": [
    "# Atomic Data Types\n",
    "\n",
    "Python has many ways to store and structure data.  Today we'll discuss the most basic building blocks available to us.  This is not a complete review, but rather an introduction to a few of the tools python provides us.  All the data types discussed today are 'immutable' or unchanging, which at this stage for us, simply means we don't have to think twice when using them.\n",
    "\n",
    "Note: You can always check the type of an object by calling `type()` like so: `type(11)`"
   ]
  },
  {
   "cell_type": "markdown",
   "metadata": {},
   "source": [
    "# Numbers (int, float)\n",
    "\n",
    "Python differentiates between whole numbers (aka **integers**) and decimal numbers, or **floats**.  For basic mathematical operations, they are interchangable.\n",
    "\n",
    "Examples:\n",
    "3 (integer)\n",
    "\n",
    "3.5 (float)\n",
    "\n",
    "-3 (negative integer)\n",
    "\n",
    "### Mathematical operands (from low to high precedence)\n",
    "\n",
    "- **-** : Subtraction\n",
    "- **+** : Addition\n",
    "- **/** : Divison\n",
    "- ** \\* ** : Multiplication\n",
    "- ** % ** : Modulo aka remainder\n",
    "- ** // ** : Floor division (round result down)\n",
    "- ** \\*\\* ** : Exponents\n",
    "\n",
    "Using python for math is very similar to a calculator.  Python will evaluate mathematical statements from the bottom of the list above going up.  Exponents, addition and subtraction last.  If you want to to evaluate in another order, use parentheses.\n",
    "\n",
    "\n",
    "### Comparisons\n",
    "- == : equals\n",
    "- \\>, < : greater than, less than\n",
    "- \\>=, <= : greater than or equal to, less than or equal too\n",
    "\n",
    "\n",
    "\n",
    "### Conversion\n",
    "- you can convert data types with their respective type functions: **int** and **float**"
   ]
  },
  {
   "cell_type": "code",
   "execution_count": null,
   "metadata": {},
   "outputs": [],
   "source": [
    "3 + 4 * 2 / 3 + 2**2"
   ]
  },
  {
   "cell_type": "code",
   "execution_count": null,
   "metadata": {},
   "outputs": [],
   "source": [
    "(3 + (4 * (2 / 3)) + (2**2))"
   ]
  },
  {
   "cell_type": "code",
   "execution_count": null,
   "metadata": {},
   "outputs": [],
   "source": [
    "(3 + 4 * 2) / (3 + 2**2)"
   ]
  },
  {
   "cell_type": "code",
   "execution_count": null,
   "metadata": {},
   "outputs": [],
   "source": [
    "# Ummm, what? https://www.youtube.com/watch?v=PZRI1IfStY0\n",
    "0.1 + 0.2"
   ]
  },
  {
   "cell_type": "code",
   "execution_count": null,
   "metadata": {},
   "outputs": [],
   "source": [
    "9 % 2"
   ]
  },
  {
   "cell_type": "code",
   "execution_count": null,
   "metadata": {},
   "outputs": [],
   "source": [
    "# Type conversion\n",
    "int(9.9)"
   ]
  },
  {
   "cell_type": "code",
   "execution_count": null,
   "metadata": {},
   "outputs": [],
   "source": [
    "float(9)"
   ]
  },
  {
   "cell_type": "code",
   "execution_count": null,
   "metadata": {},
   "outputs": [],
   "source": [
    "3 < 5"
   ]
  },
  {
   "cell_type": "code",
   "execution_count": null,
   "metadata": {},
   "outputs": [],
   "source": [
    "100/4 >= 2*7"
   ]
  },
  {
   "cell_type": "code",
   "execution_count": null,
   "metadata": {},
   "outputs": [],
   "source": [
    "3 < 6 <= 9 # they can also be chained"
   ]
  },
  {
   "cell_type": "code",
   "execution_count": null,
   "metadata": {},
   "outputs": [],
   "source": [
    "3 == 3.0"
   ]
  },
  {
   "cell_type": "code",
   "execution_count": null,
   "metadata": {},
   "outputs": [],
   "source": [
    "2.3 == 42"
   ]
  },
  {
   "cell_type": "markdown",
   "metadata": {},
   "source": [
    "C TO F: CELSIUS TO FAHRENHEIT CONVERSION FORMULA\n",
    "\n",
    "To convert temperatures in degrees Celsius to Fahrenheit, multiply by 1.8 (or 9/5) and add 32.\n",
    "\n",
    "What is -40 Celsius in Fahrenheit?"
   ]
  },
  {
   "cell_type": "markdown",
   "metadata": {},
   "source": [
    "### Question\n",
    "\n",
    "What is `5/0`?  What do you think python should respond with when asked to calculate that?  What actually happens?"
   ]
  },
  {
   "cell_type": "markdown",
   "metadata": {},
   "source": [
    "## Strings (str)\n",
    "\n",
    "Computer languages must have a way of storing and working with text data.  To do this, python uses **strings**.  The actual implementation underneath is [surprisingly complex](https://www.youtube.com/watch?v=MijmeoH9LT4).\n",
    "\n",
    "To create a string, simply surround some text with quotation marks: `'` or `\"` but they must match!\n",
    "\n",
    "\n",
    "Comparison is *roughly* alphabetical"
   ]
  },
  {
   "cell_type": "code",
   "execution_count": null,
   "metadata": {},
   "outputs": [],
   "source": [
    "'hello'"
   ]
  },
  {
   "cell_type": "code",
   "execution_count": null,
   "metadata": {},
   "outputs": [],
   "source": [
    "\"goodbye\""
   ]
  },
  {
   "cell_type": "code",
   "execution_count": null,
   "metadata": {},
   "outputs": [],
   "source": [
    "'bat' < 'cat'"
   ]
  },
  {
   "cell_type": "code",
   "execution_count": null,
   "metadata": {},
   "outputs": [],
   "source": [
    "'Z' < 'a'"
   ]
  },
  {
   "cell_type": "code",
   "execution_count": null,
   "metadata": {},
   "outputs": [],
   "source": [
    "'bat' == \"bat\""
   ]
  },
  {
   "cell_type": "code",
   "execution_count": null,
   "metadata": {
    "scrolled": true
   },
   "outputs": [],
   "source": [
    "\"\" # empty string.  Like 0 but for strings"
   ]
  },
  {
   "cell_type": "code",
   "execution_count": null,
   "metadata": {},
   "outputs": [],
   "source": [
    "'hello' + 'goodbye' # String concatenation"
   ]
  },
  {
   "cell_type": "markdown",
   "metadata": {},
   "source": [
    "Strings have some special characters you may want to know:\n",
    "- \\n (new line)\n",
    "- \\t (tab)\n",
    "\n",
    "To avoid confusion, when you want a literal forward slash you must use two: `\\\\`  This is called escaping.  It allows you to tell the computer 'the next character has some special meaning'"
   ]
  },
  {
   "cell_type": "code",
   "execution_count": null,
   "metadata": {},
   "outputs": [],
   "source": [
    "'Quotes in strings isn\\'t impossible'"
   ]
  },
  {
   "cell_type": "code",
   "execution_count": null,
   "metadata": {},
   "outputs": [],
   "source": [
    "\"But isn't it easier to just use the other type of quote?\""
   ]
  },
  {
   "cell_type": "markdown",
   "metadata": {},
   "source": [
    "Some properties of strings:\n",
    "\n",
    "- they have a length (since they are a series of characters)\n",
    "- they can be transformed into other strings\n",
    "- they can be transformed into other data types!"
   ]
  },
  {
   "cell_type": "code",
   "execution_count": null,
   "metadata": {},
   "outputs": [],
   "source": [
    "len('Oregon') # length of the string"
   ]
  },
  {
   "cell_type": "code",
   "execution_count": null,
   "metadata": {},
   "outputs": [],
   "source": [
    "'Oregon'.lower() # lower case"
   ]
  },
  {
   "cell_type": "code",
   "execution_count": null,
   "metadata": {},
   "outputs": [],
   "source": [
    "'oregon'.upper()"
   ]
  },
  {
   "cell_type": "markdown",
   "metadata": {},
   "source": [
    "### Note\n",
    "\n",
    "Python includes a way for you to look at the documentation of anything without going to google.  You just have to ask for help with help().  You can use this on the object type, or the specific function you want"
   ]
  },
  {
   "cell_type": "code",
   "execution_count": null,
   "metadata": {
    "collapsed": true
   },
   "outputs": [],
   "source": [
    "help(str)"
   ]
  },
  {
   "cell_type": "code",
   "execution_count": null,
   "metadata": {
    "collapsed": true
   },
   "outputs": [],
   "source": [
    "help('oregon'.lower)"
   ]
  },
  {
   "cell_type": "markdown",
   "metadata": {},
   "source": [
    "Converting between strings and numbers is also very easy using their type functions.  You must make sure the data can be converted, or a **TypeError** error will be raised."
   ]
  },
  {
   "cell_type": "code",
   "execution_count": null,
   "metadata": {},
   "outputs": [],
   "source": [
    "str(9)"
   ]
  },
  {
   "cell_type": "code",
   "execution_count": null,
   "metadata": {},
   "outputs": [],
   "source": [
    "int('2012')"
   ]
  },
  {
   "cell_type": "code",
   "execution_count": null,
   "metadata": {},
   "outputs": [],
   "source": [
    "float('9.3')"
   ]
  },
  {
   "cell_type": "code",
   "execution_count": null,
   "metadata": {
    "scrolled": true
   },
   "outputs": [],
   "source": [
    "int('hello')"
   ]
  },
  {
   "cell_type": "markdown",
   "metadata": {},
   "source": [
    "Since strings are just a series (or collection) of characters, you can check if they contain other strings"
   ]
  },
  {
   "cell_type": "code",
   "execution_count": null,
   "metadata": {},
   "outputs": [],
   "source": [
    "'i' in 'team'"
   ]
  },
  {
   "cell_type": "markdown",
   "metadata": {},
   "source": [
    "## Booleans (bool)\n",
    "\n",
    "True and False (always capitalized).  They represent a Yes or No when we ask the computer a question, such as \"Is there an 'i' in 'team'?\"\n",
    "\n",
    "Every data structure has a *boolean value* to indicate whether python considers it a 'yes' or 'no' in certain scenarios.\n",
    "\n",
    "Everything is True except:\n",
    "- False\n",
    "- None (represents nothing, or a lack of an answer)\n",
    "- 'empty' Data types, such as an empty string or 0\n",
    "\n",
    "You can check the boolean value of an object with `bool`."
   ]
  },
  {
   "cell_type": "code",
   "execution_count": null,
   "metadata": {},
   "outputs": [],
   "source": [
    "True"
   ]
  },
  {
   "cell_type": "code",
   "execution_count": null,
   "metadata": {},
   "outputs": [],
   "source": [
    "False"
   ]
  },
  {
   "cell_type": "code",
   "execution_count": null,
   "metadata": {},
   "outputs": [],
   "source": [
    "bool(True)"
   ]
  },
  {
   "cell_type": "code",
   "execution_count": null,
   "metadata": {},
   "outputs": [],
   "source": [
    "bool(False)"
   ]
  },
  {
   "cell_type": "code",
   "execution_count": null,
   "metadata": {},
   "outputs": [],
   "source": [
    "bool('strings are true')"
   ]
  },
  {
   "cell_type": "code",
   "execution_count": null,
   "metadata": {},
   "outputs": [],
   "source": [
    "bool('')"
   ]
  },
  {
   "cell_type": "code",
   "execution_count": null,
   "metadata": {},
   "outputs": [],
   "source": [
    "bool(100)"
   ]
  },
  {
   "cell_type": "code",
   "execution_count": null,
   "metadata": {},
   "outputs": [],
   "source": [
    "bool(0)"
   ]
  },
  {
   "cell_type": "code",
   "execution_count": null,
   "metadata": {},
   "outputs": [],
   "source": [
    "bool(None)"
   ]
  },
  {
   "cell_type": "markdown",
   "metadata": {},
   "source": [
    "## Tuples (tuple)\n",
    "\n",
    "An ordered collection of data.  Like strings, in that they are many things held together in order.  Instead of characters, they can be anything - integers, floats, booleans, strings, or even other tuples!  Though generally you just keep one type of data in a tuple.\n",
    "\n",
    "To create, surround your data with paretheses.\n",
    "\n",
    "### Conversion\n",
    "You can convert any collection into a tuple by passing it to tuple().  The only collection we've seen so far are strings.\n",
    "\n",
    "### Indexing\n",
    "Since tuples are ordered, you may access certain elements by their position, or **index**.  The first index is always 0.  You access an index using the [index] notation like so: `(1, 2, 3)[0]`\n",
    "\n",
    "Since strings are ordered collections as well, this works for strings too.  `'Hello'[0] == 'H'`"
   ]
  },
  {
   "cell_type": "code",
   "execution_count": null,
   "metadata": {},
   "outputs": [],
   "source": [
    "(1, 2, 3)"
   ]
  },
  {
   "cell_type": "code",
   "execution_count": null,
   "metadata": {},
   "outputs": [],
   "source": [
    "type((1, 2, 3))"
   ]
  },
  {
   "cell_type": "code",
   "execution_count": null,
   "metadata": {},
   "outputs": [],
   "source": [
    "('hello', True, 2, 3.4, None,)"
   ]
  },
  {
   "cell_type": "code",
   "execution_count": null,
   "metadata": {},
   "outputs": [],
   "source": [
    "tuple('hello')"
   ]
  },
  {
   "cell_type": "code",
   "execution_count": null,
   "metadata": {},
   "outputs": [],
   "source": [
    "len((1, 2, 3))"
   ]
  },
  {
   "cell_type": "code",
   "execution_count": null,
   "metadata": {},
   "outputs": [],
   "source": [
    "bool(())"
   ]
  },
  {
   "cell_type": "code",
   "execution_count": null,
   "metadata": {},
   "outputs": [],
   "source": [
    "(0, 1, 1, 0, 3).count(1)"
   ]
  },
  {
   "cell_type": "code",
   "execution_count": null,
   "metadata": {},
   "outputs": [],
   "source": [
    "(1, 2, 3) + (4, 5, 6) # only tuples can be added to other tuples"
   ]
  },
  {
   "cell_type": "code",
   "execution_count": null,
   "metadata": {},
   "outputs": [],
   "source": [
    "3 in (1, 2, 3)"
   ]
  },
  {
   "cell_type": "code",
   "execution_count": null,
   "metadata": {},
   "outputs": [],
   "source": [
    "(1, 2, 3)[0]"
   ]
  },
  {
   "cell_type": "code",
   "execution_count": null,
   "metadata": {},
   "outputs": [],
   "source": [
    "(1, 2, 3)[2]"
   ]
  }
 ],
 "metadata": {
  "kernelspec": {
   "display_name": "Python 3",
   "language": "python",
   "name": "python3"
  },
  "language_info": {
   "codemirror_mode": {
    "name": "ipython",
    "version": 3
   },
   "file_extension": ".py",
   "mimetype": "text/x-python",
   "name": "python",
   "nbconvert_exporter": "python",
   "pygments_lexer": "ipython3",
   "version": "3.6.1"
  }
 },
 "nbformat": 4,
 "nbformat_minor": 2
}
